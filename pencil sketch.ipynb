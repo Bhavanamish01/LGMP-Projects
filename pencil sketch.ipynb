{
 "cells": [
  {
   "cell_type": "markdown",
   "id": "457aa5d4",
   "metadata": {},
   "source": [
    "# Bhavana Mishra"
   ]
  },
  {
   "cell_type": "markdown",
   "id": "d6d8476f",
   "metadata": {},
   "source": [
    "# Data Science and Business Analytics Intern @ The Letsgrowmore Foundation\n"
   ]
  },
  {
   "cell_type": "markdown",
   "id": "ba2ab24b",
   "metadata": {},
   "source": [
    "# Topic : Image to Pencil Sketch with Python  (BEGINNER LEVEL TASK)"
   ]
  },
  {
   "cell_type": "code",
   "execution_count": 2,
   "id": "a12e66f5",
   "metadata": {},
   "outputs": [],
   "source": [
    "#First import the required libraries."
   ]
  },
  {
   "cell_type": "code",
   "execution_count": 13,
   "id": "00061e23",
   "metadata": {},
   "outputs": [],
   "source": [
    "import cv2\n"
   ]
  },
  {
   "cell_type": "code",
   "execution_count": 14,
   "id": "89ae79e7",
   "metadata": {},
   "outputs": [],
   "source": [
    "#Read the picture you want to convert into a pencil sketch."
   ]
  },
  {
   "cell_type": "code",
   "execution_count": 25,
   "id": "0ffb30b5",
   "metadata": {},
   "outputs": [
    {
     "data": {
      "text/plain": [
       "-1"
      ]
     },
     "execution_count": 25,
     "metadata": {},
     "output_type": "execute_result"
    }
   ],
   "source": [
    "image = cv2.imread(\"C://Users//bmish//Downloads//girl with lapy.jpg\")\n",
    "cv2.imshow(\"laptop\", image)\n",
    "cv2.waitKey(0)"
   ]
  },
  {
   "cell_type": "code",
   "execution_count": 16,
   "id": "17fb2978",
   "metadata": {},
   "outputs": [],
   "source": [
    "#Use the cvtColor function of cv2 to convert the image to grayscale. \n",
    "#Converting the image to grayscale provides us with black and white pixels in the image, which will be used to convert the pencil sketch.\n",
    "\n"
   ]
  },
  {
   "cell_type": "code",
   "execution_count": 26,
   "id": "e5814c34",
   "metadata": {},
   "outputs": [
    {
     "data": {
      "text/plain": [
       "-1"
      ]
     },
     "execution_count": 26,
     "metadata": {},
     "output_type": "execute_result"
    }
   ],
   "source": [
    "gray_image = cv2.cvtColor(image, cv2.COLOR_BGR2GRAY)\n",
    "cv2.imshow(\"laptop\", gray_image)\n",
    "cv2.waitKey(0)"
   ]
  },
  {
   "cell_type": "code",
   "execution_count": 18,
   "id": "52a8b60b",
   "metadata": {},
   "outputs": [],
   "source": [
    "#We are using the bitwise_not function, to brighten the lighter areas and vice versa, so that we can find the edges to make a pencil sketch.\n",
    "\n"
   ]
  },
  {
   "cell_type": "code",
   "execution_count": 27,
   "id": "f21ad4e1",
   "metadata": {},
   "outputs": [
    {
     "data": {
      "text/plain": [
       "-1"
      ]
     },
     "execution_count": 27,
     "metadata": {},
     "output_type": "execute_result"
    }
   ],
   "source": [
    "inverted_image = 255 - gray_image\n",
    "cv2.imshow(\"Inverted\", inverted_image)\n",
    "cv2.waitKey()"
   ]
  },
  {
   "cell_type": "code",
   "execution_count": 28,
   "id": "baa45cb1",
   "metadata": {},
   "outputs": [],
   "source": [
    "blurred = cv2.GaussianBlur(inverted_image, (21, 21), 0)"
   ]
  },
  {
   "cell_type": "code",
   "execution_count": 29,
   "id": "8643341a",
   "metadata": {},
   "outputs": [],
   "source": [
    "#The final_sketch function divides the grayscale value of the image by\n",
    "#the reciprocal of the unsharpness value to make the edges of the image thicker.\n",
    "\n",
    " #Finally, use final_sketch to get the pencil sketch."
   ]
  },
  {
   "cell_type": "code",
   "execution_count": 30,
   "id": "8b32396e",
   "metadata": {},
   "outputs": [
    {
     "data": {
      "text/plain": [
       "-1"
      ]
     },
     "execution_count": 30,
     "metadata": {},
     "output_type": "execute_result"
    }
   ],
   "source": [
    "inverted_blurred = 255 - blurred\n",
    "pencil_sketch = cv2.divide(gray_image, inverted_blurred, scale=256.0)\n",
    "cv2.imshow(\"Sketch\", pencil_sketch)\n",
    "cv2.waitKey(0)"
   ]
  },
  {
   "cell_type": "code",
   "execution_count": 23,
   "id": "14c300d0",
   "metadata": {},
   "outputs": [],
   "source": [
    "#Both original and pencil sketch"
   ]
  },
  {
   "cell_type": "code",
   "execution_count": null,
   "id": "0bae13bb",
   "metadata": {},
   "outputs": [],
   "source": [
    "cv2.imshow(\"original image\", image)\n",
    "cv2.imshow(\"pencil sketch\", pencil_sketch)\n",
    "cv2.waitKey(0)"
   ]
  },
  {
   "cell_type": "code",
   "execution_count": null,
   "id": "a72299e0",
   "metadata": {},
   "outputs": [],
   "source": []
  }
 ],
 "metadata": {
  "kernelspec": {
   "display_name": "Python 3",
   "language": "python",
   "name": "python3"
  },
  "language_info": {
   "codemirror_mode": {
    "name": "ipython",
    "version": 3
   },
   "file_extension": ".py",
   "mimetype": "text/x-python",
   "name": "python",
   "nbconvert_exporter": "python",
   "pygments_lexer": "ipython3",
   "version": "3.8.8"
  }
 },
 "nbformat": 4,
 "nbformat_minor": 5
}
